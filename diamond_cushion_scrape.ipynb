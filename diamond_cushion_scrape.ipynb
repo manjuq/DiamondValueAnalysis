{
 "cells": [
  {
   "cell_type": "code",
   "execution_count": null,
   "metadata": {},
   "outputs": [],
   "source": [
    "import pandas as pd\n",
    "import requests\n",
    "from bs4 import BeautifulSoup\n",
    "\n",
    "url = \"https://capitalwholesalediamonds.com/product-category/cushion/page/1\"\n",
    "\n",
    "# GET request to the URL\n",
    "response = requests.get(url)\n",
    "# Create a BeautifulSoup object to parse the HTML content\n",
    "soup = BeautifulSoup(response.content, \"html.parser\")\n",
    "\n"
   ]
  },
  {
   "cell_type": "code",
   "execution_count": null,
   "metadata": {},
   "outputs": [],
   "source": [
    "product_list = soup.find_all(\"div\", class_=\"ftc-product product\")\n",
    "all =[]\n",
    "\n",
    "# Iterate over each product in the product list\n",
    "for product in product_list:\n",
    "    # Extract the product URL\n",
    "    product_url = product.find(\"a\")[\"href\"]\n",
    "\n",
    "    # Extract the price\n",
    "    price = soup.find('span', {'class':'woocommerce-Price-amount amount'}).text\n",
    "    \n",
    "    # Extract the description and split it into individual lines\n",
    "    description = soup.find('div', id='tab-description').p.text.split('\\n')\n",
    "\n",
    "    # Extract specific details from the description using split and indexing\n",
    "    product_id = description[0].split(':')[1]\n",
    "    shape = description[1].split(':')[1]\n",
    "    carat = description[2].split(':')[1]\n",
    "    clarity = description[3].split(':')[1]\n",
    "    colour = description[4].split(':')[1]\n",
    "    cut = description[5].split(':')[1]\n",
    "    polish = description[6].split(':')[1]\n",
    "    symmetry = description[6].split(':')[1]\n",
    "    fluorescence = description[7].split(':')[1]\n",
    "    measurements = description[8].split(':')[1]\n",
    "\n",
    "    # Append the extracted data to the 'all' list\n",
    "    all.append([product_id, shape, carat, clarity, colour, cut, polish, symmetry, fluorescence, measurements, price, product_url])\n"
   ]
  },
  {
   "attachments": {},
   "cell_type": "markdown",
   "metadata": {},
   "source": [
    "Pandas Dataframe"
   ]
  },
  {
   "cell_type": "code",
   "execution_count": 177,
   "metadata": {},
   "outputs": [],
   "source": [
    "cushion_df = pd.DataFrame(all, columns=['Product_id', 'Shape', 'Weight', 'Clarity', 'Colour', 'Cut', 'Polish',\n",
    "       'Symmetry', 'Fluorescence', 'Messurements', 'Price', 'Product_url'])\n"
   ]
  },
  {
   "attachments": {},
   "cell_type": "markdown",
   "metadata": {},
   "source": [
    "Store output in Excel"
   ]
  },
  {
   "cell_type": "code",
   "execution_count": 178,
   "metadata": {},
   "outputs": [],
   "source": [
    "cushion_df.to_excel('single_page_cushion.xlsx', index=False)"
   ]
  },
  {
   "attachments": {},
   "cell_type": "markdown",
   "metadata": {},
   "source": [
    "Scraping mulitple pages"
   ]
  },
  {
   "cell_type": "code",
   "execution_count": null,
   "metadata": {},
   "outputs": [],
   "source": [
    "\n",
    "urls = [\"https://capitalwholesalediamonds.com/product-category/cushion/page/\" + str(i) for i in range(1, 100)]\n",
    "all_data = []\n",
    "\n",
    "for url in urls:\n",
    "    response = requests.get(url)\n",
    "    soup = BeautifulSoup(response.content, \"html.parser\")\n",
    "    product_list = soup.find_all(\"div\", class_=\"ftc-product product\")\n",
    "    \n",
    "    for product in product_list:\n",
    "        product_url = product.find(\"a\")[\"href\"]\n",
    "        response = requests.get(product_url)\n",
    "        soup = BeautifulSoup(response.text, 'html.parser')\n",
    "        \n",
    "        price = soup.find('span', {'class':'woocommerce-Price-amount amount'}).text\n",
    "        description = soup.find('div', id='tab-description').p.text.split('\\n')\n",
    "        product_id = description[0].split(':')[1]\n",
    "        shape = description[1].split(':')[1]\n",
    "        carat = description[2].split(':')[1]\n",
    "        clarity = description[3].split(':')[1]\n",
    "        colour = description[4].split(':')[1]\n",
    "        cut = description[5].split(':')[1]\n",
    "        polish = description[6].split(':')[1]\n",
    "        symmetry = description[6].split(':')[1]\n",
    "        fluorescence = description[7].split(':')[1]\n",
    "        measurements = description[8].split(':')[1]\n",
    "        \n",
    "        all_data.append([product_id, shape, carat, clarity, colour, cut, polish, symmetry, fluorescence, measurements, price, product_url])\n",
    "\n",
    "\n"
   ]
  },
  {
   "cell_type": "code",
   "execution_count": 183,
   "metadata": {},
   "outputs": [],
   "source": [
    "cushion_multiple_df = pd.DataFrame(all_data, columns=['Product_id', 'Shape', 'Weight', 'Clarity', 'Colour', 'Cut', 'Polish', 'Symmetry', 'Fluorescence', 'Measurements', 'Price', 'Product_url'])\n"
   ]
  },
  {
   "cell_type": "code",
   "execution_count": 185,
   "metadata": {},
   "outputs": [
    {
     "data": {
      "text/plain": [
       "(1485, 12)"
      ]
     },
     "execution_count": 185,
     "metadata": {},
     "output_type": "execute_result"
    }
   ],
   "source": [
    "cushion_multiple_df.shape"
   ]
  },
  {
   "attachments": {},
   "cell_type": "markdown",
   "metadata": {},
   "source": [
    "Store results in excel"
   ]
  },
  {
   "cell_type": "code",
   "execution_count": 2,
   "metadata": {},
   "outputs": [
    {
     "ename": "NameError",
     "evalue": "name 'cushion_multiple_df' is not defined",
     "output_type": "error",
     "traceback": [
      "\u001b[0;31m---------------------------------------------------------------------------\u001b[0m",
      "\u001b[0;31mNameError\u001b[0m                                 Traceback (most recent call last)",
      "\u001b[1;32m/home/manju/projects/kaggle/diamond_pred/data_cushion_scrape.ipynb Cell 15\u001b[0m in \u001b[0;36m<cell line: 1>\u001b[0;34m()\u001b[0m\n\u001b[0;32m----> <a href='vscode-notebook-cell:/home/manju/projects/kaggle/diamond_pred/data_cushion_scrape.ipynb#X20sZmlsZQ%3D%3D?line=0'>1</a>\u001b[0m cushion_multiple_df\u001b[39m.\u001b[39mto_excel(\u001b[39m'\u001b[39m\u001b[39mmultiple_page_cushion.xlsx\u001b[39m\u001b[39m'\u001b[39m, index\u001b[39m=\u001b[39m\u001b[39mFalse\u001b[39;00m)\n",
      "\u001b[0;31mNameError\u001b[0m: name 'cushion_multiple_df' is not defined"
     ]
    }
   ],
   "source": [
    "cushion_multiple_df.to_excel('multiple_page_cushion.xlsx', index=False)"
   ]
  },
  {
   "cell_type": "code",
   "execution_count": null,
   "metadata": {},
   "outputs": [],
   "source": []
  }
 ],
 "metadata": {
  "kernelspec": {
   "display_name": "Python 3",
   "language": "python",
   "name": "python3"
  },
  "language_info": {
   "codemirror_mode": {
    "name": "ipython",
    "version": 3
   },
   "file_extension": ".py",
   "mimetype": "text/x-python",
   "name": "python",
   "nbconvert_exporter": "python",
   "pygments_lexer": "ipython3",
   "version": "3.10.6"
  },
  "orig_nbformat": 4
 },
 "nbformat": 4,
 "nbformat_minor": 2
}
