{
 "cells": [
  {
   "cell_type": "code",
<<<<<<< HEAD
   "execution_count": 25,
   "metadata": {},
   "outputs": [
    {
     "data": {
      "text/plain": [
       "<Response [200]>"
      ]
     },
     "execution_count": 25,
     "metadata": {},
     "output_type": "execute_result"
    }
   ],
=======
   "execution_count": null,
   "metadata": {},
   "outputs": [],
>>>>>>> f09f0cd3fdbd9e10c5aa322c9da6ca0808690fdd
   "source": [
    "import pandas as pd\n",
    "import requests\n",
    "from bs4 import BeautifulSoup\n",
    "\n",
<<<<<<< HEAD
    "url = \"https://capitalwholesalediamonds.com/product-category/cushion/\"\n",
=======
    "url = \"https://capitalwholesalediamonds.com/product-category/cushion/page/1\"\n",
>>>>>>> f09f0cd3fdbd9e10c5aa322c9da6ca0808690fdd
    "\n",
    "# GET request to the URL\n",
    "response = requests.get(url)\n",
    "# Create a BeautifulSoup object to parse the HTML content\n",
    "soup = BeautifulSoup(response.content, \"html.parser\")\n",
<<<<<<< HEAD
    "#check status code\n",
    "response"
=======
    "\n"
>>>>>>> f09f0cd3fdbd9e10c5aa322c9da6ca0808690fdd
   ]
  },
  {
   "cell_type": "code",
<<<<<<< HEAD
   "execution_count": 26,
=======
   "execution_count": null,
>>>>>>> f09f0cd3fdbd9e10c5aa322c9da6ca0808690fdd
   "metadata": {},
   "outputs": [],
   "source": [
    "product_list = soup.find_all(\"div\", class_=\"ftc-product product\")\n",
    "all =[]\n",
    "\n",
    "# Iterate over each product in the product list\n",
    "for product in product_list:\n",
    "    # Extract the product URL\n",
    "    product_url = product.find(\"a\")[\"href\"]\n",
<<<<<<< HEAD
    "    \n",
    "    # GET request to the product URL\n",
    "    response = requests.get(product_url)\n",
    "    soup = BeautifulSoup(response.content, \"html.parser\")\n",
=======
>>>>>>> f09f0cd3fdbd9e10c5aa322c9da6ca0808690fdd
    "\n",
    "    # Extract the price\n",
    "    price = soup.find('span', {'class':'woocommerce-Price-amount amount'}).text\n",
    "    \n",
    "    # Extract the description and split it into individual lines\n",
    "    description = soup.find('div', id='tab-description').p.text.split('\\n')\n",
    "\n",
    "    # Extract specific details from the description using split and indexing\n",
    "    product_id = description[0].split(':')[1]\n",
    "    shape = description[1].split(':')[1]\n",
    "    carat = description[2].split(':')[1]\n",
    "    clarity = description[3].split(':')[1]\n",
    "    colour = description[4].split(':')[1]\n",
    "    cut = description[5].split(':')[1]\n",
    "    polish = description[6].split(':')[1]\n",
    "    symmetry = description[6].split(':')[1]\n",
    "    fluorescence = description[7].split(':')[1]\n",
    "    measurements = description[8].split(':')[1]\n",
    "\n",
    "    # Append the extracted data to the 'all' list\n",
    "    all.append([product_id, shape, carat, clarity, colour, cut, polish, symmetry, fluorescence, measurements, price, product_url])\n"
   ]
  },
  {
   "attachments": {},
   "cell_type": "markdown",
   "metadata": {},
   "source": [
    "Pandas Dataframe"
   ]
  },
  {
   "cell_type": "code",
<<<<<<< HEAD
   "execution_count": 33,
   "metadata": {},
   "outputs": [
    {
     "data": {
      "text/html": [
       "<div>\n",
       "<style scoped>\n",
       "    .dataframe tbody tr th:only-of-type {\n",
       "        vertical-align: middle;\n",
       "    }\n",
       "\n",
       "    .dataframe tbody tr th {\n",
       "        vertical-align: top;\n",
       "    }\n",
       "\n",
       "    .dataframe thead th {\n",
       "        text-align: right;\n",
       "    }\n",
       "</style>\n",
       "<table border=\"1\" class=\"dataframe\">\n",
       "  <thead>\n",
       "    <tr style=\"text-align: right;\">\n",
       "      <th></th>\n",
       "      <th>Product_id</th>\n",
       "      <th>Shape</th>\n",
       "      <th>Weight</th>\n",
       "      <th>Clarity</th>\n",
       "      <th>Colour</th>\n",
       "      <th>Cut</th>\n",
       "      <th>Polish</th>\n",
       "      <th>Symmetry</th>\n",
       "      <th>Fluorescence</th>\n",
       "      <th>Messurements</th>\n",
       "      <th>Price</th>\n",
       "      <th>Product_url</th>\n",
       "    </tr>\n",
       "  </thead>\n",
       "  <tbody>\n",
       "    <tr>\n",
       "      <th>0</th>\n",
       "      <td>2106452</td>\n",
       "      <td>CUSHION</td>\n",
       "      <td>0.55</td>\n",
       "      <td>SI2</td>\n",
       "      <td>N</td>\n",
       "      <td>VG</td>\n",
       "      <td>EX</td>\n",
       "      <td>EX</td>\n",
       "      <td>VG</td>\n",
       "      <td>N</td>\n",
       "      <td>$673.61</td>\n",
       "      <td>https://capitalwholesalediamonds.com/product/0...</td>\n",
       "    </tr>\n",
       "    <tr>\n",
       "      <th>1</th>\n",
       "      <td>2042329</td>\n",
       "      <td>CUSHION</td>\n",
       "      <td>0.52</td>\n",
       "      <td>SI2</td>\n",
       "      <td>Y-Z</td>\n",
       "      <td>EX</td>\n",
       "      <td>EX</td>\n",
       "      <td>EX</td>\n",
       "      <td>VG</td>\n",
       "      <td>F</td>\n",
       "      <td>$735.67</td>\n",
       "      <td>https://capitalwholesalediamonds.com/product/0...</td>\n",
       "    </tr>\n",
       "    <tr>\n",
       "      <th>2</th>\n",
       "      <td>2055268</td>\n",
       "      <td>CUSHION</td>\n",
       "      <td>0.5</td>\n",
       "      <td>SI1</td>\n",
       "      <td>L</td>\n",
       "      <td>VG</td>\n",
       "      <td>EX</td>\n",
       "      <td>EX</td>\n",
       "      <td>VG</td>\n",
       "      <td>N</td>\n",
       "      <td>$768.14</td>\n",
       "      <td>https://capitalwholesalediamonds.com/product/0...</td>\n",
       "    </tr>\n",
       "    <tr>\n",
       "      <th>3</th>\n",
       "      <td>2128779</td>\n",
       "      <td>CUSHION</td>\n",
       "      <td>0.5</td>\n",
       "      <td>VS2</td>\n",
       "      <td>M</td>\n",
       "      <td>EX</td>\n",
       "      <td>EX</td>\n",
       "      <td>EX</td>\n",
       "      <td>VG</td>\n",
       "      <td>F</td>\n",
       "      <td>$770.64</td>\n",
       "      <td>https://capitalwholesalediamonds.com/product/0...</td>\n",
       "    </tr>\n",
       "    <tr>\n",
       "      <th>4</th>\n",
       "      <td>2103991</td>\n",
       "      <td>CUSHION</td>\n",
       "      <td>0.51</td>\n",
       "      <td>SI1</td>\n",
       "      <td>M</td>\n",
       "      <td>EX</td>\n",
       "      <td>EX</td>\n",
       "      <td>EX</td>\n",
       "      <td>VG</td>\n",
       "      <td>N</td>\n",
       "      <td>$784.13</td>\n",
       "      <td>https://capitalwholesalediamonds.com/product/0...</td>\n",
       "    </tr>\n",
       "  </tbody>\n",
       "</table>\n",
       "</div>"
      ],
      "text/plain": [
       "  Product_id     Shape Weight Clarity Colour  Cut Polish Symmetry  \\\n",
       "0    2106452   CUSHION   0.55     SI2      N   VG     EX       EX   \n",
       "1    2042329   CUSHION   0.52     SI2    Y-Z   EX     EX       EX   \n",
       "2    2055268   CUSHION    0.5     SI1      L   VG     EX       EX   \n",
       "3    2128779   CUSHION    0.5     VS2      M   EX     EX       EX   \n",
       "4    2103991   CUSHION   0.51     SI1      M   EX     EX       EX   \n",
       "\n",
       "  Fluorescence Messurements    Price  \\\n",
       "0           VG            N  $673.61   \n",
       "1           VG            F  $735.67   \n",
       "2           VG            N  $768.14   \n",
       "3           VG            F  $770.64   \n",
       "4           VG            N  $784.13   \n",
       "\n",
       "                                         Product_url  \n",
       "0  https://capitalwholesalediamonds.com/product/0...  \n",
       "1  https://capitalwholesalediamonds.com/product/0...  \n",
       "2  https://capitalwholesalediamonds.com/product/0...  \n",
       "3  https://capitalwholesalediamonds.com/product/0...  \n",
       "4  https://capitalwholesalediamonds.com/product/0...  "
      ]
     },
     "execution_count": 33,
     "metadata": {},
     "output_type": "execute_result"
    }
   ],
   "source": [
    "cushion_df = pd.DataFrame(all, columns=['Product_id', 'Shape', 'Weight', 'Clarity', 'Colour', 'Cut', 'Polish',\n",
    "       'Symmetry', 'Fluorescence', 'Messurements', 'Price', 'Product_url'])\n",
    "cushion_df.head()\n"
=======
   "execution_count": 177,
   "metadata": {},
   "outputs": [],
   "source": [
    "cushion_df = pd.DataFrame(all, columns=['Product_id', 'Shape', 'Weight', 'Clarity', 'Colour', 'Cut', 'Polish',\n",
    "       'Symmetry', 'Fluorescence', 'Messurements', 'Price', 'Product_url'])\n"
>>>>>>> f09f0cd3fdbd9e10c5aa322c9da6ca0808690fdd
   ]
  },
  {
   "attachments": {},
   "cell_type": "markdown",
   "metadata": {},
   "source": [
    "Store output in Excel"
   ]
  },
  {
   "cell_type": "code",
<<<<<<< HEAD
   "execution_count": 28,
=======
   "execution_count": 178,
>>>>>>> f09f0cd3fdbd9e10c5aa322c9da6ca0808690fdd
   "metadata": {},
   "outputs": [],
   "source": [
    "cushion_df.to_excel('single_page_cushion.xlsx', index=False)"
   ]
  },
  {
   "attachments": {},
   "cell_type": "markdown",
   "metadata": {},
   "source": [
    "Scraping mulitple pages"
   ]
  },
  {
   "cell_type": "code",
<<<<<<< HEAD
   "execution_count": 29,
=======
   "execution_count": null,
>>>>>>> f09f0cd3fdbd9e10c5aa322c9da6ca0808690fdd
   "metadata": {},
   "outputs": [],
   "source": [
    "\n",
<<<<<<< HEAD
    "urls = [\"https://capitalwholesalediamonds.com/product-category/cushion/page/\" + str(i) for i in range(1, 11)]\n",
=======
    "urls = [\"https://capitalwholesalediamonds.com/product-category/cushion/page/\" + str(i) for i in range(1, 100)]\n",
>>>>>>> f09f0cd3fdbd9e10c5aa322c9da6ca0808690fdd
    "all_data = []\n",
    "\n",
    "for url in urls:\n",
    "    response = requests.get(url)\n",
    "    soup = BeautifulSoup(response.content, \"html.parser\")\n",
    "    product_list = soup.find_all(\"div\", class_=\"ftc-product product\")\n",
    "    \n",
    "    for product in product_list:\n",
    "        product_url = product.find(\"a\")[\"href\"]\n",
    "        response = requests.get(product_url)\n",
    "        soup = BeautifulSoup(response.text, 'html.parser')\n",
    "        \n",
    "        price = soup.find('span', {'class':'woocommerce-Price-amount amount'}).text\n",
    "        description = soup.find('div', id='tab-description').p.text.split('\\n')\n",
    "        product_id = description[0].split(':')[1]\n",
    "        shape = description[1].split(':')[1]\n",
    "        carat = description[2].split(':')[1]\n",
    "        clarity = description[3].split(':')[1]\n",
    "        colour = description[4].split(':')[1]\n",
    "        cut = description[5].split(':')[1]\n",
    "        polish = description[6].split(':')[1]\n",
    "        symmetry = description[6].split(':')[1]\n",
    "        fluorescence = description[7].split(':')[1]\n",
    "        measurements = description[8].split(':')[1]\n",
    "        \n",
    "        all_data.append([product_id, shape, carat, clarity, colour, cut, polish, symmetry, fluorescence, measurements, price, product_url])\n",
<<<<<<< HEAD
=======
    "\n",
>>>>>>> f09f0cd3fdbd9e10c5aa322c9da6ca0808690fdd
    "\n"
   ]
  },
  {
   "cell_type": "code",
<<<<<<< HEAD
   "execution_count": 36,
=======
   "execution_count": 183,
   "metadata": {},
   "outputs": [],
   "source": [
    "cushion_multiple_df = pd.DataFrame(all_data, columns=['Product_id', 'Shape', 'Weight', 'Clarity', 'Colour', 'Cut', 'Polish', 'Symmetry', 'Fluorescence', 'Measurements', 'Price', 'Product_url'])\n"
   ]
  },
  {
   "cell_type": "code",
   "execution_count": 185,
>>>>>>> f09f0cd3fdbd9e10c5aa322c9da6ca0808690fdd
   "metadata": {},
   "outputs": [
    {
     "data": {
<<<<<<< HEAD
      "text/html": [
       "<div>\n",
       "<style scoped>\n",
       "    .dataframe tbody tr th:only-of-type {\n",
       "        vertical-align: middle;\n",
       "    }\n",
       "\n",
       "    .dataframe tbody tr th {\n",
       "        vertical-align: top;\n",
       "    }\n",
       "\n",
       "    .dataframe thead th {\n",
       "        text-align: right;\n",
       "    }\n",
       "</style>\n",
       "<table border=\"1\" class=\"dataframe\">\n",
       "  <thead>\n",
       "    <tr style=\"text-align: right;\">\n",
       "      <th></th>\n",
       "      <th>Product_id</th>\n",
       "      <th>Shape</th>\n",
       "      <th>Weight</th>\n",
       "      <th>Clarity</th>\n",
       "      <th>Colour</th>\n",
       "      <th>Cut</th>\n",
       "      <th>Polish</th>\n",
       "      <th>Symmetry</th>\n",
       "      <th>Fluorescence</th>\n",
       "      <th>Measurements</th>\n",
       "      <th>Price</th>\n",
       "      <th>Product_url</th>\n",
       "    </tr>\n",
       "  </thead>\n",
       "  <tbody>\n",
       "    <tr>\n",
       "      <th>0</th>\n",
       "      <td>2106452</td>\n",
       "      <td>CUSHION</td>\n",
       "      <td>0.55</td>\n",
       "      <td>SI2</td>\n",
       "      <td>N</td>\n",
       "      <td>VG</td>\n",
       "      <td>EX</td>\n",
       "      <td>EX</td>\n",
       "      <td>VG</td>\n",
       "      <td>N</td>\n",
       "      <td>$673.61</td>\n",
       "      <td>https://capitalwholesalediamonds.com/product/0...</td>\n",
       "    </tr>\n",
       "    <tr>\n",
       "      <th>1</th>\n",
       "      <td>2042329</td>\n",
       "      <td>CUSHION</td>\n",
       "      <td>0.52</td>\n",
       "      <td>SI2</td>\n",
       "      <td>Y-Z</td>\n",
       "      <td>EX</td>\n",
       "      <td>EX</td>\n",
       "      <td>EX</td>\n",
       "      <td>VG</td>\n",
       "      <td>F</td>\n",
       "      <td>$735.67</td>\n",
       "      <td>https://capitalwholesalediamonds.com/product/0...</td>\n",
       "    </tr>\n",
       "    <tr>\n",
       "      <th>2</th>\n",
       "      <td>2055268</td>\n",
       "      <td>CUSHION</td>\n",
       "      <td>0.5</td>\n",
       "      <td>SI1</td>\n",
       "      <td>L</td>\n",
       "      <td>VG</td>\n",
       "      <td>EX</td>\n",
       "      <td>EX</td>\n",
       "      <td>VG</td>\n",
       "      <td>N</td>\n",
       "      <td>$768.14</td>\n",
       "      <td>https://capitalwholesalediamonds.com/product/0...</td>\n",
       "    </tr>\n",
       "    <tr>\n",
       "      <th>3</th>\n",
       "      <td>2128779</td>\n",
       "      <td>CUSHION</td>\n",
       "      <td>0.5</td>\n",
       "      <td>VS2</td>\n",
       "      <td>M</td>\n",
       "      <td>EX</td>\n",
       "      <td>EX</td>\n",
       "      <td>EX</td>\n",
       "      <td>VG</td>\n",
       "      <td>F</td>\n",
       "      <td>$770.64</td>\n",
       "      <td>https://capitalwholesalediamonds.com/product/0...</td>\n",
       "    </tr>\n",
       "    <tr>\n",
       "      <th>4</th>\n",
       "      <td>2103991</td>\n",
       "      <td>CUSHION</td>\n",
       "      <td>0.51</td>\n",
       "      <td>SI1</td>\n",
       "      <td>M</td>\n",
       "      <td>EX</td>\n",
       "      <td>EX</td>\n",
       "      <td>EX</td>\n",
       "      <td>VG</td>\n",
       "      <td>N</td>\n",
       "      <td>$784.13</td>\n",
       "      <td>https://capitalwholesalediamonds.com/product/0...</td>\n",
       "    </tr>\n",
       "  </tbody>\n",
       "</table>\n",
       "</div>"
      ],
      "text/plain": [
       "  Product_id     Shape Weight Clarity Colour  Cut Polish Symmetry  \\\n",
       "0    2106452   CUSHION   0.55     SI2      N   VG     EX       EX   \n",
       "1    2042329   CUSHION   0.52     SI2    Y-Z   EX     EX       EX   \n",
       "2    2055268   CUSHION    0.5     SI1      L   VG     EX       EX   \n",
       "3    2128779   CUSHION    0.5     VS2      M   EX     EX       EX   \n",
       "4    2103991   CUSHION   0.51     SI1      M   EX     EX       EX   \n",
       "\n",
       "  Fluorescence Measurements    Price  \\\n",
       "0           VG            N  $673.61   \n",
       "1           VG            F  $735.67   \n",
       "2           VG            N  $768.14   \n",
       "3           VG            F  $770.64   \n",
       "4           VG            N  $784.13   \n",
       "\n",
       "                                         Product_url  \n",
       "0  https://capitalwholesalediamonds.com/product/0...  \n",
       "1  https://capitalwholesalediamonds.com/product/0...  \n",
       "2  https://capitalwholesalediamonds.com/product/0...  \n",
       "3  https://capitalwholesalediamonds.com/product/0...  \n",
       "4  https://capitalwholesalediamonds.com/product/0...  "
      ]
     },
     "execution_count": 36,
=======
      "text/plain": [
       "(1485, 12)"
      ]
     },
     "execution_count": 185,
>>>>>>> f09f0cd3fdbd9e10c5aa322c9da6ca0808690fdd
     "metadata": {},
     "output_type": "execute_result"
    }
   ],
   "source": [
<<<<<<< HEAD
    "cushion_multiple_df = pd.DataFrame(all_data, columns=['Product_id', 'Shape', 'Weight', 'Clarity', 'Colour', 'Cut', 'Polish', 'Symmetry', 'Fluorescence', 'Measurements', 'Price', 'Product_url'])\n",
    "cushion_multiple_df.head()"
=======
    "cushion_multiple_df.shape"
>>>>>>> f09f0cd3fdbd9e10c5aa322c9da6ca0808690fdd
   ]
  },
  {
   "attachments": {},
   "cell_type": "markdown",
   "metadata": {},
   "source": [
    "Store results in excel"
   ]
  },
  {
   "cell_type": "code",
<<<<<<< HEAD
   "execution_count": 32,
   "metadata": {},
   "outputs": [],
   "source": [
    "cushion_multiple_df.to_excel('multiple_page_cushion.xlsx', index=False)"
   ]
=======
   "execution_count": 2,
   "metadata": {},
   "outputs": [
    {
     "ename": "NameError",
     "evalue": "name 'cushion_multiple_df' is not defined",
     "output_type": "error",
     "traceback": [
      "\u001b[0;31m---------------------------------------------------------------------------\u001b[0m",
      "\u001b[0;31mNameError\u001b[0m                                 Traceback (most recent call last)",
      "\u001b[1;32m/home/manju/projects/kaggle/diamond_pred/data_cushion_scrape.ipynb Cell 15\u001b[0m in \u001b[0;36m<cell line: 1>\u001b[0;34m()\u001b[0m\n\u001b[0;32m----> <a href='vscode-notebook-cell:/home/manju/projects/kaggle/diamond_pred/data_cushion_scrape.ipynb#X20sZmlsZQ%3D%3D?line=0'>1</a>\u001b[0m cushion_multiple_df\u001b[39m.\u001b[39mto_excel(\u001b[39m'\u001b[39m\u001b[39mmultiple_page_cushion.xlsx\u001b[39m\u001b[39m'\u001b[39m, index\u001b[39m=\u001b[39m\u001b[39mFalse\u001b[39;00m)\n",
      "\u001b[0;31mNameError\u001b[0m: name 'cushion_multiple_df' is not defined"
     ]
    }
   ],
   "source": [
    "cushion_multiple_df.to_excel('multiple_page_cushion.xlsx', index=False)"
   ]
  },
  {
   "cell_type": "code",
   "execution_count": null,
   "metadata": {},
   "outputs": [],
   "source": []
>>>>>>> f09f0cd3fdbd9e10c5aa322c9da6ca0808690fdd
  }
 ],
 "metadata": {
  "kernelspec": {
   "display_name": "Python 3",
   "language": "python",
   "name": "python3"
  },
  "language_info": {
   "codemirror_mode": {
    "name": "ipython",
    "version": 3
   },
   "file_extension": ".py",
   "mimetype": "text/x-python",
   "name": "python",
   "nbconvert_exporter": "python",
   "pygments_lexer": "ipython3",
   "version": "3.10.6"
  },
  "orig_nbformat": 4
 },
 "nbformat": 4,
 "nbformat_minor": 2
}
